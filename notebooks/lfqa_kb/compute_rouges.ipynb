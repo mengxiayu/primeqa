{
 "cells": [
  {
   "cell_type": "code",
   "execution_count": 1,
   "metadata": {},
   "outputs": [],
   "source": [
    "import sys\n",
    "sys.path.append(\"/dccstor/srosent2/primeqa-mengxia/primeqa/primeqa/\")\n",
    "# print(sys.path)\n",
    "from lfqa_kb.metrics.utils import _metric_max_over_ground_truths\n",
    "import pandas as pd"
   ]
  },
  {
   "cell_type": "code",
   "execution_count": 2,
   "metadata": {},
   "outputs": [],
   "source": [
    "# Gold Data\n",
    "\n",
    "import json\n",
    "ELI5 = {}\n",
    "\n",
    "with open(\"/dccstor/srosent2/primeqa-mengxia/data/dpr-100passages_withkg_best_all_cased_pr/eli5-dev-kilt-dpr-kg-00.json\",'r') as f:\n",
    "    for line in f.readlines():\n",
    "        data = json.loads(line)\n",
    "        ELI5[data['id']] = data"
   ]
  },
  {
   "cell_type": "code",
   "execution_count": 3,
   "metadata": {},
   "outputs": [],
   "source": [
    "# Gold Data\n",
    "\n",
    "ASQA = {}\n",
    "\n",
    "with open(\"/dccstor/srosent2/primeqa-mengxia/data/asqa/passages_kg_pr/asqa-dev-kg.json\",'r') as f:\n",
    "    for line in f.readlines():\n",
    "        data = json.loads(line)\n",
    "        ASQA[data['id']] = data"
   ]
  },
  {
   "cell_type": "code",
   "execution_count": 9,
   "metadata": {},
   "outputs": [],
   "source": [
    "def rouge(ref_data, prediction_file):\n",
    "    baseline_df = pd.read_json(prediction_file, lines=True, dtype=str)  #orient='records', lines=True\n",
    "    baseline_df['hf_rouge'] = 0.0\n",
    "    baseline_df['kilt_rouge'] = 0.0\n",
    "\n",
    "    for i, row in baseline_df.iterrows():\n",
    "        answers = []\n",
    "        output = ref_data[row[\"id\"]]['output']\n",
    "\n",
    "        for o in output:\n",
    "            if \"answer\" in o:\n",
    "                answers.append(o[\"answer\"])\n",
    "\n",
    "        hf_rouge_score, kilt_rouge_score = _metric_max_over_ground_truths(row[\"text\"],answers) # prediction_text\n",
    "        \n",
    "        baseline_df.loc[i, 'hf_rouge'] = hf_rouge_score\n",
    "        baseline_df.loc[i, 'kilt_rouge'] = kilt_rouge_score\n",
    "        \n",
    "    hf_score = baseline_df['hf_rouge'].mean()\n",
    "    kilt_score = baseline_df['kilt_rouge'].mean()\n",
    "    return hf_score, kilt_score"
   ]
  },
  {
   "cell_type": "code",
   "execution_count": 5,
   "metadata": {},
   "outputs": [
    {
     "ename": "TypeError",
     "evalue": "rouge() missing 1 required positional argument: 'prediction_file'",
     "output_type": "error",
     "traceback": [
      "\u001b[0;31m---------------------------------------------------------------------------\u001b[0m",
      "\u001b[0;31mTypeError\u001b[0m                                 Traceback (most recent call last)",
      "Cell \u001b[0;32mIn[5], line 1\u001b[0m\n\u001b[0;32m----> 1\u001b[0m hf_score, kilt_score \u001b[39m=\u001b[39m rouge(\u001b[39m\"\u001b[39;49m\u001b[39m/dccstor/srosent2/primeqa-mengxia/experiments/eli5/filter_pr/all/oracle_train/kg_vocab/output/eval_predictions.json\u001b[39;49m\u001b[39m\"\u001b[39;49m)\n\u001b[1;32m      2\u001b[0m \u001b[39mprint\u001b[39m(\u001b[39mf\u001b[39m\u001b[39m\"\u001b[39m\u001b[39m{\u001b[39;00mhf_score\u001b[39m}\u001b[39;00m\u001b[39m \u001b[39m\u001b[39m{\u001b[39;00mkilt_score\u001b[39m}\u001b[39;00m\u001b[39m\"\u001b[39m)\n",
      "\u001b[0;31mTypeError\u001b[0m: rouge() missing 1 required positional argument: 'prediction_file'"
     ]
    }
   ],
   "source": [
    "hf_score, kilt_score = rouge(\"/dccstor/srosent2/primeqa-mengxia/experiments/eli5/filter_pr/all/oracle_train/kg_vocab/output/eval_predictions.json\")\n",
    "print(f\"{hf_score} {kilt_score}\")"
   ]
  },
  {
   "attachments": {},
   "cell_type": "markdown",
   "metadata": {},
   "source": [
    "\"/dccstor/srosent2/primeqa-mengxia/experiments/eli5/llm/*/*/*/predictions*.json\"\n",
    "\"/dccstor/srosent2/primeqa-mengxia/experiments/eli5/default-cased/*/eval_predictions.json\""
   ]
  },
  {
   "cell_type": "code",
   "execution_count": 9,
   "metadata": {},
   "outputs": [
    {
     "name": "stdout",
     "output_type": "stream",
     "text": [
      "filter_pr/best/oracle_train/kg_vocab/output/eval_predictions.json|0.34091718714797986|0.3381247730560579\n",
      "filter_pr/best/oracle_train/kg_triples/output/eval_predictions.json|0.3071780544589346|0.2777883819991962\n",
      "filter_pr/best/oracle_train/kg_sentences/output/eval_predictions.json|0.2981136636605923|0.26207400629327754\n",
      "filter_pr/best/classifier/kg_triples/output/eval_predictions.json|0.2989590024440737|0.2533164266857733\n",
      "filter_pr/all/oracle_train/kg_vocab/output/eval_predictions.json|0.33947903100935856|0.3375327665511594\n",
      "filter_pr/all/oracle_train/kg_triples/output/eval_predictions.json|0.30814305891866456|0.2801967707195021\n",
      "filter_pr/all/oracle_train/kg_sentences/output/eval_predictions.json|0.2929297549962011|0.25826866264803655\n"
     ]
    }
   ],
   "source": [
    "import glob\n",
    "\n",
    "pred_files = glob.glob(\"/dccstor/srosent2/primeqa-mengxia/experiments/eli5/filter_pr/*/*/*/*/eval_predictions.json\")\n",
    "\n",
    "for file in pred_files:\n",
    "    hf_score, kilt_score = rouge(file)\n",
    "    print(f\"{file[len('/dccstor/srosent2/primeqa-mengxia/experiments/eli5/'):]}|{hf_score}|{kilt_score}\")"
   ]
  },
  {
   "cell_type": "code",
   "execution_count": 20,
   "metadata": {},
   "outputs": [
    {
     "name": "stdout",
     "output_type": "stream",
     "text": [
      "default-cased/output/eval_predictions.json|0.29324764162032196|0.2603816447110422\n",
      "old/oracle-kg/default/output/eval_predictions.json|0.30016056742210856|0.264891112224429\n"
     ]
    }
   ],
   "source": [
    "import glob\n",
    "\n",
    "pred_files = [\"/dccstor/srosent2/primeqa-mengxia/experiments/eli5/default-cased/output/eval_predictions.json\",\n",
    "\"/dccstor/srosent2/primeqa-mengxia/experiments/eli5/old/oracle-kg/default/output/eval_predictions.json\"]\n",
    "\n",
    "for file in pred_files:\n",
    "    hf_score, kilt_score = rouge(ELI5, file)\n",
    "    print(f\"{file[len('/dccstor/srosent2/primeqa-mengxia/experiments/eli5/'):]}|{hf_score}|{kilt_score}\")"
   ]
  },
  {
   "cell_type": "code",
   "execution_count": 11,
   "metadata": {},
   "outputs": [
    {
     "name": "stdout",
     "output_type": "stream",
     "text": [
      "llm/kg_vocab/google-flan-t5-xxl/prefix_default-passages_True-0shot_pktemp-1.0_5_0.7-nctx_3-minmaxtok_100_1024/predictions-0-1507.json|0.2017658339552232|0.1776883730223207\n",
      "llm/kg_triples/google-flan-t5-xxl/prefix_default-passages_True-0shot_pktemp-1.0_5_0.7-nctx_3-minmaxtok_100_1024/predictions-0-1507.json|0.18500723552470225|0.17074034204820304\n",
      "llm/kg_sentences/google-flan-t5-xxl/prefix_default-passages_True-0shot_pktemp-1.0_5_0.7-nctx_3-minmaxtok_100_1024/predictions-0-1507.json|0.1952088712029225|0.17302102435045755\n",
      "llm/debug/google-flan-t5-small/prefix_default-passages_True-0shot_pktemp-0.25_100_1.0-nctx_3-minmaxtok_100_256/predictions-0-1507.json|nan|nan\n",
      "llm/default/google-flan-t5-xxl/prefix_default-passages_True-0shot_pktemp-1.0_5_0.7-nctx_3-minmaxtok_100_1024/predictions-0-1507.json|0.20672720839226544|0.17312319014771305\n"
     ]
    }
   ],
   "source": [
    "import glob\n",
    "\n",
    "pred_files = glob.glob(\"/dccstor/srosent2/primeqa-mengxia/experiments/eli5/llm/*/*/*/predictions*.json\")\n",
    "\n",
    "for file in pred_files:\n",
    "    hf_score, kilt_score = rouge(file)\n",
    "    print(f\"{file[len('/dccstor/srosent2/primeqa-mengxia/experiments/eli5/'):]}|{hf_score}|{kilt_score}\")"
   ]
  },
  {
   "cell_type": "code",
   "execution_count": 5,
   "metadata": {},
   "outputs": [
    {
     "ename": "ValueError",
     "evalue": "Expected object or value",
     "output_type": "error",
     "traceback": [
      "\u001b[0;31m---------------------------------------------------------------------------\u001b[0m",
      "\u001b[0;31mValueError\u001b[0m                                Traceback (most recent call last)",
      "Cell \u001b[0;32mIn[5], line 7\u001b[0m\n\u001b[1;32m      1\u001b[0m \u001b[39m# pred_files = glob.glob(\"/dccstor/srosent2/primeqa-mengxia/experiments/asqa/oracle_kg/all/kg_*/*/eval_predictions.json\")\u001b[39;00m\n\u001b[1;32m      2\u001b[0m \n\u001b[1;32m      3\u001b[0m \u001b[39m# for file in pred_files:\u001b[39;00m\n\u001b[1;32m      4\u001b[0m \u001b[39m#     hf_score, kilt_score = rouge(ASQA, file)\u001b[39;00m\n\u001b[1;32m      5\u001b[0m \u001b[39m#     print(f\"{file[len('/dccstor/srosent2/primeqa-mengxia/experiments/eli5/'):]}|{hf_score}|{kilt_score}\")\u001b[39;00m\n\u001b[0;32m----> 7\u001b[0m hf_score, kilt_score \u001b[39m=\u001b[39m rouge(ASQA, \u001b[39m\"\u001b[39;49m\u001b[39m/dccstor/srosent2/primeqa-mengxia/experiments/asqa/default-cased/output/eval_predictions.json\u001b[39;49m\u001b[39m\"\u001b[39;49m)\n\u001b[1;32m      8\u001b[0m \u001b[39mprint\u001b[39m(\u001b[39mf\u001b[39m\u001b[39m\"\u001b[39m\u001b[39mdefault|\u001b[39m\u001b[39m{\u001b[39;00mhf_score\u001b[39m}\u001b[39;00m\u001b[39m|\u001b[39m\u001b[39m{\u001b[39;00mkilt_score\u001b[39m}\u001b[39;00m\u001b[39m\"\u001b[39m)\n",
      "Cell \u001b[0;32mIn[4], line 2\u001b[0m, in \u001b[0;36mrouge\u001b[0;34m(ref_data, prediction_file)\u001b[0m\n\u001b[1;32m      1\u001b[0m \u001b[39mdef\u001b[39;00m \u001b[39mrouge\u001b[39m(ref_data, prediction_file):\n\u001b[0;32m----> 2\u001b[0m     baseline_df \u001b[39m=\u001b[39m pd\u001b[39m.\u001b[39;49mread_json(prediction_file, lines\u001b[39m=\u001b[39;49m\u001b[39mTrue\u001b[39;49;00m, dtype\u001b[39m=\u001b[39;49m\u001b[39mstr\u001b[39;49m) \u001b[39m# orient='records' # lines=True\u001b[39;00m\n\u001b[1;32m      3\u001b[0m     baseline_df[\u001b[39m'\u001b[39m\u001b[39mhf_rouge\u001b[39m\u001b[39m'\u001b[39m] \u001b[39m=\u001b[39m \u001b[39m0.0\u001b[39m\n\u001b[1;32m      4\u001b[0m     baseline_df[\u001b[39m'\u001b[39m\u001b[39mkilt_rouge\u001b[39m\u001b[39m'\u001b[39m] \u001b[39m=\u001b[39m \u001b[39m0.0\u001b[39m\n",
      "File \u001b[0;32m/dccstor/srosent1/miniconda3/envs/primeqa4.24/lib/python3.9/site-packages/pandas/util/_decorators.py:207\u001b[0m, in \u001b[0;36mdeprecate_kwarg.<locals>._deprecate_kwarg.<locals>.wrapper\u001b[0;34m(*args, **kwargs)\u001b[0m\n\u001b[1;32m    205\u001b[0m     \u001b[39melse\u001b[39;00m:\n\u001b[1;32m    206\u001b[0m         kwargs[new_arg_name] \u001b[39m=\u001b[39m new_arg_value\n\u001b[0;32m--> 207\u001b[0m \u001b[39mreturn\u001b[39;00m func(\u001b[39m*\u001b[39;49margs, \u001b[39m*\u001b[39;49m\u001b[39m*\u001b[39;49mkwargs)\n",
      "File \u001b[0;32m/dccstor/srosent1/miniconda3/envs/primeqa4.24/lib/python3.9/site-packages/pandas/util/_decorators.py:311\u001b[0m, in \u001b[0;36mdeprecate_nonkeyword_arguments.<locals>.decorate.<locals>.wrapper\u001b[0;34m(*args, **kwargs)\u001b[0m\n\u001b[1;32m    305\u001b[0m \u001b[39mif\u001b[39;00m \u001b[39mlen\u001b[39m(args) \u001b[39m>\u001b[39m num_allow_args:\n\u001b[1;32m    306\u001b[0m     warnings\u001b[39m.\u001b[39mwarn(\n\u001b[1;32m    307\u001b[0m         msg\u001b[39m.\u001b[39mformat(arguments\u001b[39m=\u001b[39marguments),\n\u001b[1;32m    308\u001b[0m         \u001b[39mFutureWarning\u001b[39;00m,\n\u001b[1;32m    309\u001b[0m         stacklevel\u001b[39m=\u001b[39mstacklevel,\n\u001b[1;32m    310\u001b[0m     )\n\u001b[0;32m--> 311\u001b[0m \u001b[39mreturn\u001b[39;00m func(\u001b[39m*\u001b[39;49margs, \u001b[39m*\u001b[39;49m\u001b[39m*\u001b[39;49mkwargs)\n",
      "File \u001b[0;32m/dccstor/srosent1/miniconda3/envs/primeqa4.24/lib/python3.9/site-packages/pandas/io/json/_json.py:614\u001b[0m, in \u001b[0;36mread_json\u001b[0;34m(path_or_buf, orient, typ, dtype, convert_axes, convert_dates, keep_default_dates, numpy, precise_float, date_unit, encoding, encoding_errors, lines, chunksize, compression, nrows, storage_options)\u001b[0m\n\u001b[1;32m    611\u001b[0m     \u001b[39mreturn\u001b[39;00m json_reader\n\u001b[1;32m    613\u001b[0m \u001b[39mwith\u001b[39;00m json_reader:\n\u001b[0;32m--> 614\u001b[0m     \u001b[39mreturn\u001b[39;00m json_reader\u001b[39m.\u001b[39;49mread()\n",
      "File \u001b[0;32m/dccstor/srosent1/miniconda3/envs/primeqa4.24/lib/python3.9/site-packages/pandas/io/json/_json.py:746\u001b[0m, in \u001b[0;36mJsonReader.read\u001b[0;34m(self)\u001b[0m\n\u001b[1;32m    744\u001b[0m         data \u001b[39m=\u001b[39m ensure_str(\u001b[39mself\u001b[39m\u001b[39m.\u001b[39mdata)\n\u001b[1;32m    745\u001b[0m         data_lines \u001b[39m=\u001b[39m data\u001b[39m.\u001b[39msplit(\u001b[39m\"\u001b[39m\u001b[39m\\n\u001b[39;00m\u001b[39m\"\u001b[39m)\n\u001b[0;32m--> 746\u001b[0m         obj \u001b[39m=\u001b[39m \u001b[39mself\u001b[39;49m\u001b[39m.\u001b[39;49m_get_object_parser(\u001b[39mself\u001b[39;49m\u001b[39m.\u001b[39;49m_combine_lines(data_lines))\n\u001b[1;32m    747\u001b[0m \u001b[39melse\u001b[39;00m:\n\u001b[1;32m    748\u001b[0m     obj \u001b[39m=\u001b[39m \u001b[39mself\u001b[39m\u001b[39m.\u001b[39m_get_object_parser(\u001b[39mself\u001b[39m\u001b[39m.\u001b[39mdata)\n",
      "File \u001b[0;32m/dccstor/srosent1/miniconda3/envs/primeqa4.24/lib/python3.9/site-packages/pandas/io/json/_json.py:770\u001b[0m, in \u001b[0;36mJsonReader._get_object_parser\u001b[0;34m(self, json)\u001b[0m\n\u001b[1;32m    768\u001b[0m obj \u001b[39m=\u001b[39m \u001b[39mNone\u001b[39;00m\n\u001b[1;32m    769\u001b[0m \u001b[39mif\u001b[39;00m typ \u001b[39m==\u001b[39m \u001b[39m\"\u001b[39m\u001b[39mframe\u001b[39m\u001b[39m\"\u001b[39m:\n\u001b[0;32m--> 770\u001b[0m     obj \u001b[39m=\u001b[39m FrameParser(json, \u001b[39m*\u001b[39;49m\u001b[39m*\u001b[39;49mkwargs)\u001b[39m.\u001b[39;49mparse()\n\u001b[1;32m    772\u001b[0m \u001b[39mif\u001b[39;00m typ \u001b[39m==\u001b[39m \u001b[39m\"\u001b[39m\u001b[39mseries\u001b[39m\u001b[39m\"\u001b[39m \u001b[39mor\u001b[39;00m obj \u001b[39mis\u001b[39;00m \u001b[39mNone\u001b[39;00m:\n\u001b[1;32m    773\u001b[0m     \u001b[39mif\u001b[39;00m \u001b[39mnot\u001b[39;00m \u001b[39misinstance\u001b[39m(dtype, \u001b[39mbool\u001b[39m):\n",
      "File \u001b[0;32m/dccstor/srosent1/miniconda3/envs/primeqa4.24/lib/python3.9/site-packages/pandas/io/json/_json.py:885\u001b[0m, in \u001b[0;36mParser.parse\u001b[0;34m(self)\u001b[0m\n\u001b[1;32m    882\u001b[0m     \u001b[39mself\u001b[39m\u001b[39m.\u001b[39m_parse_numpy()\n\u001b[1;32m    884\u001b[0m \u001b[39melse\u001b[39;00m:\n\u001b[0;32m--> 885\u001b[0m     \u001b[39mself\u001b[39;49m\u001b[39m.\u001b[39;49m_parse_no_numpy()\n\u001b[1;32m    887\u001b[0m \u001b[39mif\u001b[39;00m \u001b[39mself\u001b[39m\u001b[39m.\u001b[39mobj \u001b[39mis\u001b[39;00m \u001b[39mNone\u001b[39;00m:\n\u001b[1;32m    888\u001b[0m     \u001b[39mreturn\u001b[39;00m \u001b[39mNone\u001b[39;00m\n",
      "File \u001b[0;32m/dccstor/srosent1/miniconda3/envs/primeqa4.24/lib/python3.9/site-packages/pandas/io/json/_json.py:1140\u001b[0m, in \u001b[0;36mFrameParser._parse_no_numpy\u001b[0;34m(self)\u001b[0m\n\u001b[1;32m   1136\u001b[0m orient \u001b[39m=\u001b[39m \u001b[39mself\u001b[39m\u001b[39m.\u001b[39morient\n\u001b[1;32m   1138\u001b[0m \u001b[39mif\u001b[39;00m orient \u001b[39m==\u001b[39m \u001b[39m\"\u001b[39m\u001b[39mcolumns\u001b[39m\u001b[39m\"\u001b[39m:\n\u001b[1;32m   1139\u001b[0m     \u001b[39mself\u001b[39m\u001b[39m.\u001b[39mobj \u001b[39m=\u001b[39m DataFrame(\n\u001b[0;32m-> 1140\u001b[0m         loads(json, precise_float\u001b[39m=\u001b[39;49m\u001b[39mself\u001b[39;49m\u001b[39m.\u001b[39;49mprecise_float), dtype\u001b[39m=\u001b[39m\u001b[39mNone\u001b[39;00m\n\u001b[1;32m   1141\u001b[0m     )\n\u001b[1;32m   1142\u001b[0m \u001b[39melif\u001b[39;00m orient \u001b[39m==\u001b[39m \u001b[39m\"\u001b[39m\u001b[39msplit\u001b[39m\u001b[39m\"\u001b[39m:\n\u001b[1;32m   1143\u001b[0m     decoded \u001b[39m=\u001b[39m {\n\u001b[1;32m   1144\u001b[0m         \u001b[39mstr\u001b[39m(k): v\n\u001b[1;32m   1145\u001b[0m         \u001b[39mfor\u001b[39;00m k, v \u001b[39min\u001b[39;00m loads(json, precise_float\u001b[39m=\u001b[39m\u001b[39mself\u001b[39m\u001b[39m.\u001b[39mprecise_float)\u001b[39m.\u001b[39mitems()\n\u001b[1;32m   1146\u001b[0m     }\n",
      "\u001b[0;31mValueError\u001b[0m: Expected object or value"
     ]
    }
   ],
   "source": [
    "\n",
    "# pred_files = glob.glob(\"/dccstor/srosent2/primeqa-mengxia/experiments/asqa/oracle_kg/all/kg_*/*/eval_predictions.json\")\n",
    "\n",
    "# for file in pred_files:\n",
    "#     hf_score, kilt_score = rouge(ASQA, file)\n",
    "#     print(f\"{file[len('/dccstor/srosent2/primeqa-mengxia/experiments/eli5/'):]}|{hf_score}|{kilt_score}\")\n",
    "\n",
    "hf_score, kilt_score = rouge(ASQA, \"/dccstor/srosent2/primeqa-mengxia/experiments/asqa/default-cased/output/eval_predictions.json\")\n",
    "print(f\"default|{hf_score}|{kilt_score}\")"
   ]
  },
  {
   "attachments": {},
   "cell_type": "markdown",
   "metadata": {},
   "source": [
    "oracle_kg/all/kg_vocab/output/eval_predictions.json|0.5131369113708163|0.4951915033863919\n",
    "oracle_kg/all/kg_triples/output/eval_predictions.json|0.46579573056521606|0.4418892069347601\n",
    "oracle_kg/all/kg_sentences/output/eval_predictions.json|0.4376146893600135|0.40684625414418885"
   ]
  },
  {
   "cell_type": "code",
   "execution_count": 11,
   "metadata": {},
   "outputs": [
    {
     "ename": "TypeError",
     "evalue": "cannot unpack non-iterable float object",
     "output_type": "error",
     "traceback": [
      "\u001b[0;31m---------------------------------------------------------------------------\u001b[0m",
      "\u001b[0;31mTypeError\u001b[0m                                 Traceback (most recent call last)",
      "Cell \u001b[0;32mIn[11], line 6\u001b[0m\n\u001b[1;32m      3\u001b[0m pred_files \u001b[39m=\u001b[39m glob\u001b[39m.\u001b[39mglob(\u001b[39m\"\u001b[39m\u001b[39m/dccstor/srosent2/generative/baseline_llms/ELI5-full/512-limit/closed-book/flan-t5-large/prefix_default-passages_False-0shot_pktemp-1.0_5_0.7-minmaxtok_100_1024/predictions-0-1507.json\u001b[39m\u001b[39m\"\u001b[39m)\n\u001b[1;32m      5\u001b[0m \u001b[39mfor\u001b[39;00m file \u001b[39min\u001b[39;00m pred_files:\n\u001b[0;32m----> 6\u001b[0m     hf_score, kilt_score \u001b[39m=\u001b[39m rouge(ELI5, file)\n\u001b[1;32m      7\u001b[0m     \u001b[39mprint\u001b[39m(\u001b[39mf\u001b[39m\u001b[39m\"\u001b[39m\u001b[39m{\u001b[39;00mfile\u001b[39m}\u001b[39;00m\u001b[39m|\u001b[39m\u001b[39m{\u001b[39;00mhf_score\u001b[39m}\u001b[39;00m\u001b[39m|\u001b[39m\u001b[39m{\u001b[39;00mkilt_score\u001b[39m}\u001b[39;00m\u001b[39m\"\u001b[39m)\n",
      "Cell \u001b[0;32mIn[9], line 14\u001b[0m, in \u001b[0;36mrouge\u001b[0;34m(ref_data, prediction_file)\u001b[0m\n\u001b[1;32m     11\u001b[0m     \u001b[39mif\u001b[39;00m \u001b[39m\"\u001b[39m\u001b[39manswer\u001b[39m\u001b[39m\"\u001b[39m \u001b[39min\u001b[39;00m o:\n\u001b[1;32m     12\u001b[0m         answers\u001b[39m.\u001b[39mappend(o[\u001b[39m\"\u001b[39m\u001b[39manswer\u001b[39m\u001b[39m\"\u001b[39m])\n\u001b[0;32m---> 14\u001b[0m hf_rouge_score, kilt_rouge_score \u001b[39m=\u001b[39m _metric_max_over_ground_truths(row[\u001b[39m\"\u001b[39;49m\u001b[39mtext\u001b[39;49m\u001b[39m\"\u001b[39;49m],answers) \u001b[39m# prediction_text\u001b[39;00m\n\u001b[1;32m     16\u001b[0m baseline_df\u001b[39m.\u001b[39mloc[i, \u001b[39m'\u001b[39m\u001b[39mhf_rouge\u001b[39m\u001b[39m'\u001b[39m] \u001b[39m=\u001b[39m hf_rouge_score\n\u001b[1;32m     17\u001b[0m baseline_df\u001b[39m.\u001b[39mloc[i, \u001b[39m'\u001b[39m\u001b[39mkilt_rouge\u001b[39m\u001b[39m'\u001b[39m] \u001b[39m=\u001b[39m kilt_rouge_score\n",
      "File \u001b[0;32m/dccstor/srosent2/primeqa-mengxia/primeqa/primeqa/lfqa_kb/metrics/utils.py:23\u001b[0m, in \u001b[0;36m_metric_max_over_ground_truths\u001b[0;34m(prediction, ground_truths)\u001b[0m\n\u001b[1;32m     21\u001b[0m kilt_scores_for_ground_truths \u001b[39m=\u001b[39m []\n\u001b[1;32m     22\u001b[0m \u001b[39mfor\u001b[39;00m ground_truth \u001b[39min\u001b[39;00m ground_truths:\n\u001b[0;32m---> 23\u001b[0m     hf_score, kilt_score \u001b[39m=\u001b[39m _rougel_score(prediction, ground_truth)\n\u001b[1;32m     24\u001b[0m     hf_scores_for_ground_truths\u001b[39m.\u001b[39mappend(hf_score)\n\u001b[1;32m     25\u001b[0m     kilt_scores_for_ground_truths\u001b[39m.\u001b[39mappend(kilt_score)\n",
      "\u001b[0;31mTypeError\u001b[0m: cannot unpack non-iterable float object"
     ]
    }
   ],
   "source": [
    "\n",
    "import glob\n",
    "pred_files = glob.glob(\"/dccstor/srosent2/generative/baseline_llms/ELI5-full/512-limit/closed-book/flan-t5-large/prefix_default-passages_False-0shot_pktemp-1.0_5_0.7-minmaxtok_100_1024/predictions-0-1507.json\")\n",
    "\n",
    "for file in pred_files:\n",
    "    hf_score, kilt_score = rouge(ELI5, file)\n",
    "    print(f\"{file}|{hf_score}|{kilt_score}\")"
   ]
  }
 ],
 "metadata": {
  "kernelspec": {
   "display_name": "primeqa4.24",
   "language": "python",
   "name": "python3"
  },
  "language_info": {
   "codemirror_mode": {
    "name": "ipython",
    "version": 3
   },
   "file_extension": ".py",
   "mimetype": "text/x-python",
   "name": "python",
   "nbconvert_exporter": "python",
   "pygments_lexer": "ipython3",
   "version": "3.9.16"
  },
  "orig_nbformat": 4,
  "vscode": {
   "interpreter": {
    "hash": "d32919132f66e210a1b695050b8f424e37551142a4189348e2af6a594afe21a0"
   }
  }
 },
 "nbformat": 4,
 "nbformat_minor": 2
}
