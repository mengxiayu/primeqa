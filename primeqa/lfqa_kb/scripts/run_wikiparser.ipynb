{
 "cells": [
  {
   "cell_type": "code",
   "execution_count": null,
   "metadata": {},
   "outputs": [],
   "source": [
    "import requests\n",
    "import json\n",
    "\n",
    "wdparser_url = 'http://knowgen.sl.cloud9.ibm.com/wdparser'\n",
    "\n",
    "\n",
    "batch_input = ['Mihaela is a research scientist at IBM.', 'Mengxia is a PhD student at University of Notre Dame.']\n",
    "\n",
    "mode = 'precision'  # mode = {'simple', 'precision', 'balanced', 'recall', 'thinker'}\n",
    "\n",
    "params = {'batch_input': json.dumps(batch_input), 'mode': mode}\n",
    "response = requests.post(wdparser_url, data=params)\n",
    "print(json.dumps(response.json(), indent=2))"
   ]
  },
  {
   "cell_type": "code",
   "execution_count": 7,
   "metadata": {},
   "outputs": [],
   "source": [
    "import json\n",
    "# load passages from dev\n",
    "def load_passage_sentences(data_fn, cnt):\n",
    "    ids = []\n",
    "    passages = []\n",
    "    with open(data_fn, 'r') as f:\n",
    "        while cnt > 0:\n",
    "            example = json.loads(f.readline().strip())\n",
    "            ids.append(example[\"id\"])\n",
    "            passages.append([x[\"text\"] for x in example[\"passages\"]])\n",
    "            cnt -= 1\n",
    "    return ids, passages\n",
    "ids, passages = load_passage_sentences(\"/dccstor/myu/data/kilt_eli5_dpr/eli5-dev-kilt-dpr.json\", 100)\n"
   ]
  },
  {
   "cell_type": "code",
   "execution_count": 22,
   "metadata": {},
   "outputs": [],
   "source": [
    "import spacy\n",
    "# import neuralcoref\n",
    "nlp = spacy.load(\"en_core_web_sm\")\n",
    "# neuralcoref.add_to_pipe(nlp)\n",
    "def docs2sents(texts):\n",
    "    sentences = []\n",
    "    for doc in nlp.pipe(texts):\n",
    "        # print(doc._.has_coref)\n",
    "        # print(doc._.coref_clusters)\n",
    "        # print(doc.text)\n",
    "        # print(doc._.coref_resolved)\n",
    "        for sent in doc.sents:\n",
    "            if len(sent.text) > 10:\n",
    "                sentences.append(sent.text)\n",
    "    return sentences\n"
   ]
  },
  {
   "cell_type": "code",
   "execution_count": 23,
   "metadata": {},
   "outputs": [],
   "source": [
    "import requests\n",
    "import json\n",
    "\n",
    "wdparser_url = 'http://knowgen.sl.cloud9.ibm.com/wdparser'\n",
    "mode = 'precision'  # mode = {'simple', 'precision', 'balanced', 'recall', 'thinker'}\n",
    "\n",
    "ids, exp_docs = load_passage_sentences(\"/dccstor/myu/data/kilt_eli5_dpr/eli5-dev-kilt-dpr.json\", 100)\n",
    "out_fn = open (\"/dccstor/myu/experiments/wikiparser/eli5_dev/eli5_wikiparse_dev_100.json\", 'w')\n",
    "\n",
    "for id, docs in zip(ids, exp_docs):\n",
    "    sentences = docs2sents(docs)\n",
    "    params = {'batch_input': json.dumps(sentences), 'mode': mode}\n",
    "    response = requests.post(wdparser_url, data=params)\n",
    "    output = response.json()\n",
    "    output[\"id\"] = id\n",
    "    out_fn.write(json.dumps(output)+'\\n')\n",
    "\n"
   ]
  },
  {
   "cell_type": "code",
   "execution_count": null,
   "metadata": {},
   "outputs": [],
   "source": []
  }
 ],
 "metadata": {
  "kernelspec": {
   "display_name": "Python 3.7.13 ('KID': conda)",
   "language": "python",
   "name": "python3"
  },
  "language_info": {
   "codemirror_mode": {
    "name": "ipython",
    "version": 3
   },
   "file_extension": ".py",
   "mimetype": "text/x-python",
   "name": "python",
   "nbconvert_exporter": "python",
   "pygments_lexer": "ipython3",
   "version": "3.7.13"
  },
  "orig_nbformat": 4,
  "vscode": {
   "interpreter": {
    "hash": "2a253e0e2487f7ddf892b9d93c7684499e5e651ebea12c80870f9f0c7a78bf57"
   }
  }
 },
 "nbformat": 4,
 "nbformat_minor": 2
}
